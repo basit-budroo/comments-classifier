{
 "cells": [
  {
   "cell_type": "code",
   "execution_count": 1,
   "id": "6a268c71",
   "metadata": {},
   "outputs": [],
   "source": [
    "import os\n",
    "import nltk\n",
    "import pandas as pd\n",
    "import numpy as np\n",
    "import matplotlib.pyplot as plt\n",
    "from nltk.probability import FreqDist\n",
    "from nltk.corpus import stopwords"
   ]
  },
  {
   "cell_type": "code",
   "execution_count": 2,
   "id": "6f045e99",
   "metadata": {},
   "outputs": [],
   "source": [
    "train_data = pd.read_csv(r'data_set\\train.csv')"
   ]
  },
  {
   "cell_type": "code",
   "execution_count": 3,
   "id": "34c50b87",
   "metadata": {
    "scrolled": true
   },
   "outputs": [
    {
     "data": {
      "text/html": [
       "<div>\n",
       "<style scoped>\n",
       "    .dataframe tbody tr th:only-of-type {\n",
       "        vertical-align: middle;\n",
       "    }\n",
       "\n",
       "    .dataframe tbody tr th {\n",
       "        vertical-align: top;\n",
       "    }\n",
       "\n",
       "    .dataframe thead th {\n",
       "        text-align: right;\n",
       "    }\n",
       "</style>\n",
       "<table border=\"1\" class=\"dataframe\">\n",
       "  <thead>\n",
       "    <tr style=\"text-align: right;\">\n",
       "      <th></th>\n",
       "      <th>COMMENT_ID</th>\n",
       "      <th>AUTHOR</th>\n",
       "      <th>DATE</th>\n",
       "      <th>CONTENT</th>\n",
       "      <th>CLASS</th>\n",
       "    </tr>\n",
       "  </thead>\n",
       "  <tbody>\n",
       "    <tr>\n",
       "      <th>0</th>\n",
       "      <td>LZQPQhLyRh80UYxNuaDWhIGQYNQ96IuCg-AYWqNPjpU</td>\n",
       "      <td>Julius NM</td>\n",
       "      <td>2013-11-07T06:20:48</td>\n",
       "      <td>Huh, anyway check out this you[tube] channel: ...</td>\n",
       "      <td>1</td>\n",
       "    </tr>\n",
       "    <tr>\n",
       "      <th>1</th>\n",
       "      <td>z13jhp0bxqncu512g22wvzkasxmvvzjaz04</td>\n",
       "      <td>ElNino Melendez</td>\n",
       "      <td>2013-11-09T08:28:43</td>\n",
       "      <td>me shaking my sexy ass on my channel enjoy ^_^ ﻿</td>\n",
       "      <td>1</td>\n",
       "    </tr>\n",
       "    <tr>\n",
       "      <th>2</th>\n",
       "      <td>z13fwbwp1oujthgqj04chlngpvzmtt3r3dw</td>\n",
       "      <td>GsMega</td>\n",
       "      <td>2013-11-10T16:05:38</td>\n",
       "      <td>watch?v=vtaRGgvGtWQ   Check this out .﻿</td>\n",
       "      <td>1</td>\n",
       "    </tr>\n",
       "    <tr>\n",
       "      <th>3</th>\n",
       "      <td>z13lfzdo5vmdi1cm123te5uz2mqig1brz04</td>\n",
       "      <td>ferleck ferles</td>\n",
       "      <td>2013-11-27T21:39:24</td>\n",
       "      <td>Subscribe to my channel ﻿</td>\n",
       "      <td>1</td>\n",
       "    </tr>\n",
       "    <tr>\n",
       "      <th>4</th>\n",
       "      <td>z12avveb4xqiirsix04chxviiljryduwxg0</td>\n",
       "      <td>BeBe Burkey</td>\n",
       "      <td>2013-11-28T16:30:13</td>\n",
       "      <td>and u should.d check my channel and tell me wh...</td>\n",
       "      <td>1</td>\n",
       "    </tr>\n",
       "  </tbody>\n",
       "</table>\n",
       "</div>"
      ],
      "text/plain": [
       "                                    COMMENT_ID           AUTHOR  \\\n",
       "0  LZQPQhLyRh80UYxNuaDWhIGQYNQ96IuCg-AYWqNPjpU        Julius NM   \n",
       "1          z13jhp0bxqncu512g22wvzkasxmvvzjaz04  ElNino Melendez   \n",
       "2          z13fwbwp1oujthgqj04chlngpvzmtt3r3dw           GsMega   \n",
       "3          z13lfzdo5vmdi1cm123te5uz2mqig1brz04   ferleck ferles   \n",
       "4          z12avveb4xqiirsix04chxviiljryduwxg0      BeBe Burkey   \n",
       "\n",
       "                  DATE                                            CONTENT  \\\n",
       "0  2013-11-07T06:20:48  Huh, anyway check out this you[tube] channel: ...   \n",
       "1  2013-11-09T08:28:43   me shaking my sexy ass on my channel enjoy ^_^ ﻿   \n",
       "2  2013-11-10T16:05:38            watch?v=vtaRGgvGtWQ   Check this out .﻿   \n",
       "3  2013-11-27T21:39:24                          Subscribe to my channel ﻿   \n",
       "4  2013-11-28T16:30:13  and u should.d check my channel and tell me wh...   \n",
       "\n",
       "   CLASS  \n",
       "0      1  \n",
       "1      1  \n",
       "2      1  \n",
       "3      1  \n",
       "4      1  "
      ]
     },
     "execution_count": 3,
     "metadata": {},
     "output_type": "execute_result"
    }
   ],
   "source": [
    "train_data.head()"
   ]
  },
  {
   "cell_type": "code",
   "execution_count": 115,
   "id": "16fac863",
   "metadata": {},
   "outputs": [
    {
     "data": {
      "text/plain": [
       "1    586\n",
       "0    571\n",
       "Name: CLASS, dtype: int64"
      ]
     },
     "execution_count": 115,
     "metadata": {},
     "output_type": "execute_result"
    }
   ],
   "source": [
    "train_data['CLASS'].value_counts()"
   ]
  },
  {
   "cell_type": "code",
   "execution_count": 120,
   "id": "7dd2f89a",
   "metadata": {},
   "outputs": [
    {
     "data": {
      "image/png": "[encoded data removed]",
      "text/plain": [
       "<Figure size 640x480 with 1 Axes>"
      ]
     },
     "metadata": {},
     "output_type": "display_data"
    }
   ],
   "source": [
    "train_data['CLASS'].value_counts()\n",
    "import seaborn as sns\n",
    "import matplotlib.pyplot as plt\n",
    "\n",
    "label = ['Advertisement','Comment']\n",
    "\n",
    "colors = sns.color_palette('pastel')[0:5]\n",
    "plt.pie(train_data['CLASS'].value_counts(),labels = label , colors = colors, autopct='%.0f%%')\n",
    "plt.show()"
   ]
  },
  {
   "cell_type": "code",
   "execution_count": null,
   "id": "94bc6a57",
   "metadata": {},
   "outputs": [],
   "source": []
  },
  {
   "cell_type": "code",
   "execution_count": 124,
   "id": "de3ef799",
   "metadata": {},
   "outputs": [],
   "source": [
    "train_comment = np.array(train_data['CONTENT'])\n",
    "train_label = np.array(train_data['CLASS'])\n",
    "\n",
    "seed = 123\n",
    "np.random.seed(seed)\n",
    "np.random.shuffle(train_comment)\n",
    "np.random.seed(seed)\n",
    "np.random.shuffle(train_label)"
   ]
  },
  {
   "cell_type": "code",
   "execution_count": 125,
   "id": "1af1f8d8",
   "metadata": {},
   "outputs": [
    {
     "name": "stdout",
     "output_type": "stream",
     "text": [
      "1157\n",
      "1157\n"
     ]
    }
   ],
   "source": [
    "print(len(train_comment))\n",
    "print(len(train_label))\n"
   ]
  },
  {
   "cell_type": "code",
   "execution_count": 7,
   "id": "40705457",
   "metadata": {},
   "outputs": [],
   "source": [
    "#Total Number of Samples:\n",
    "samples = len(train_label)\n",
    "#Total Number of classes:\n",
    "unique, count = np.unique(train_label, return_counts=True)\n",
    "result = np.column_stack((unique, count))\n",
    "classes = len(unique)"
   ]
  },
  {
   "cell_type": "code",
   "execution_count": 8,
   "id": "d4ef8cbc",
   "metadata": {},
   "outputs": [
    {
     "name": "stdout",
     "output_type": "stream",
     "text": [
      "[[  0 571]\n",
      " [  1 586]]\n"
     ]
    }
   ],
   "source": [
    "print(result)"
   ]
  },
  {
   "cell_type": "code",
   "execution_count": 9,
   "id": "11e3327c",
   "metadata": {},
   "outputs": [
    {
     "name": "stdout",
     "output_type": "stream",
     "text": [
      "3\n",
      "8.0\n"
     ]
    }
   ],
   "source": [
    "#Median number of words in comments column of the corpus\n",
    "word_count = [len(comment.split()) for comment in train_comment]\n",
    "print(word_count[1])\n",
    "median = np.median(word_count)\n",
    "print(median)"
   ]
  },
  {
   "cell_type": "code",
   "execution_count": 10,
   "id": "331cbccd",
   "metadata": {},
   "outputs": [],
   "source": [
    "word_list = []\n",
    "for comment in train_comment:\n",
    "    for word in comment.split():\n",
    "        word_list.append(word)"
   ]
  },
  {
   "cell_type": "code",
   "execution_count": 11,
   "id": "dfacc9b2",
   "metadata": {},
   "outputs": [
    {
     "data": {
      "image/png": "[encoded data removed]",
      "text/plain": [
       "<Figure size 640x480 with 1 Axes>"
      ]
     },
     "metadata": {},
     "output_type": "display_data"
    },
    {
     "data": {
      "text/plain": [
       "<AxesSubplot:title={'center':'Frequency distribution for 30 most common tokens in our text collection'}, xlabel='Samples', ylabel='Counts'>"
      ]
     },
     "execution_count": 11,
     "metadata": {},
     "output_type": "execute_result"
    }
   ],
   "source": [
    "stop_words = set(stopwords.words('english'))\n",
    "\n",
    "filtered_word_list = [w for w in word_list if (not w.lower() in stop_words and len(w) >= 2)]         \n",
    "fdist_filtered = FreqDist(filtered_word_list)\n",
    "fdist_filtered.plot(30,title='Frequency distribution for 30 most common tokens in our text collection')"
   ]
  },
  {
   "cell_type": "code",
   "execution_count": 12,
   "id": "c8e03e0a",
   "metadata": {},
   "outputs": [
    {
     "data": {
      "image/png": "[encoded data removed]",
      "text/plain": [
       "<Figure size 640x480 with 1 Axes>"
      ]
     },
     "metadata": {},
     "output_type": "display_data"
    }
   ],
   "source": [
    "plt.hist([len(comment.split()) for comment in train_comment], 50)\n",
    "plt.xlabel('Length of a sample')\n",
    "plt.ylabel('Number of samples')\n",
    "plt.title('Sample length distribution')\n",
    "plt.show()"
   ]
  },
  {
   "cell_type": "code",
   "execution_count": 13,
   "id": "5c8937db",
   "metadata": {},
   "outputs": [],
   "source": [
    "data_frame = pd.DataFrame(list(zip(train_comment, train_label)), columns=['Comment', 'Label'])"
   ]
  },
  {
   "cell_type": "code",
   "execution_count": 14,
   "id": "3dfc3ff4",
   "metadata": {},
   "outputs": [
    {
     "data": {
      "text/html": [
       "<div>\n",
       "<style scoped>\n",
       "    .dataframe tbody tr th:only-of-type {\n",
       "        vertical-align: middle;\n",
       "    }\n",
       "\n",
       "    .dataframe tbody tr th {\n",
       "        vertical-align: top;\n",
       "    }\n",
       "\n",
       "    .dataframe thead th {\n",
       "        text-align: right;\n",
       "    }\n",
       "</style>\n",
       "<table border=\"1\" class=\"dataframe\">\n",
       "  <thead>\n",
       "    <tr style=\"text-align: right;\">\n",
       "      <th></th>\n",
       "      <th>Comment</th>\n",
       "      <th>Label</th>\n",
       "    </tr>\n",
       "  </thead>\n",
       "  <tbody>\n",
       "    <tr>\n",
       "      <th>0</th>\n",
       "      <td>I'm not a big fan of the song but this video i...</td>\n",
       "      <td>0</td>\n",
       "    </tr>\n",
       "    <tr>\n",
       "      <th>1</th>\n",
       "      <td>Wow...5 years&lt;br /&gt;﻿</td>\n",
       "      <td>0</td>\n",
       "    </tr>\n",
       "    <tr>\n",
       "      <th>2</th>\n",
       "      <td>i hate this music. fucking singer and every ko...</td>\n",
       "      <td>0</td>\n",
       "    </tr>\n",
       "    <tr>\n",
       "      <th>3</th>\n",
       "      <td>CHECK OUT THIS DOPE CHANNEL!    phenomenallyri...</td>\n",
       "      <td>1</td>\n",
       "    </tr>\n",
       "    <tr>\n",
       "      <th>4</th>\n",
       "      <td>super﻿</td>\n",
       "      <td>0</td>\n",
       "    </tr>\n",
       "  </tbody>\n",
       "</table>\n",
       "</div>"
      ],
      "text/plain": [
       "                                             Comment  Label\n",
       "0  I'm not a big fan of the song but this video i...      0\n",
       "1                               Wow...5 years<br />﻿      0\n",
       "2  i hate this music. fucking singer and every ko...      0\n",
       "3  CHECK OUT THIS DOPE CHANNEL!    phenomenallyri...      1\n",
       "4                                             super﻿      0"
      ]
     },
     "execution_count": 14,
     "metadata": {},
     "output_type": "execute_result"
    }
   ],
   "source": [
    "data_frame.head()"
   ]
  },
  {
   "cell_type": "code",
   "execution_count": 15,
   "id": "3d783af7",
   "metadata": {},
   "outputs": [
    {
     "data": {
      "text/plain": [
       "1    586\n",
       "0    571\n",
       "Name: Label, dtype: int64"
      ]
     },
     "execution_count": 15,
     "metadata": {},
     "output_type": "execute_result"
    }
   ],
   "source": [
    "data_frame['Label'].value_counts()"
   ]
  },
  {
   "cell_type": "code",
   "execution_count": 16,
   "id": "aaea3717",
   "metadata": {},
   "outputs": [],
   "source": [
    "y = data_frame.Label.values"
   ]
  },
  {
   "cell_type": "code",
   "execution_count": 78,
   "id": "f14754f4",
   "metadata": {},
   "outputs": [
    {
     "name": "stdout",
     "output_type": "stream",
     "text": [
      "(1157,)\n",
      "(799,)\n"
     ]
    }
   ],
   "source": [
    "test_data = pd.read_csv(r'data_set\\test.csv')\n",
    "data_frame_test = test_data['CONTENT']\n",
    "\n",
    "print(data_frame['Comment'].shape)\n",
    "print(data_frame_test.shape)"
   ]
  },
  {
   "cell_type": "code",
   "execution_count": 86,
   "id": "44320be5",
   "metadata": {},
   "outputs": [
    {
     "data": {
      "text/plain": [
       "0    I'm not a big fan of the song but this video i...\n",
       "1                                 Wow...5 years<br />﻿\n",
       "2    i hate this music. fucking singer and every ko...\n",
       "3    CHECK OUT THIS DOPE CHANNEL!    phenomenallyri...\n",
       "4                                               super﻿\n",
       "dtype: object"
      ]
     },
     "execution_count": 86,
     "metadata": {},
     "output_type": "execute_result"
    }
   ],
   "source": [
    "df1 = data_frame['Comment']\n",
    "df2 = data_frame_test\n",
    "\n",
    "total_X = df1.append(df2, ignore_index=True)\n",
    "\n",
    "total_X.head()"
   ]
  },
  {
   "cell_type": "code",
   "execution_count": 87,
   "id": "6ea563e1",
   "metadata": {},
   "outputs": [],
   "source": [
    "sw = stopwords.words('english')\n",
    "from sklearn.feature_extraction.text import TfidfVectorizer\n",
    "vectorizer = TfidfVectorizer(stop_words=sw,lowercase=True)\n",
    "X = vectorizer.fit_transform(total_X).toarray()"
   ]
  },
  {
   "cell_type": "code",
   "execution_count": 94,
   "id": "b99715d6",
   "metadata": {},
   "outputs": [
    {
     "data": {
      "text/plain": [
       "(1956, 4328)"
      ]
     },
     "execution_count": 94,
     "metadata": {},
     "output_type": "execute_result"
    }
   ],
   "source": [
    "X.shape"
   ]
  },
  {
   "cell_type": "code",
   "execution_count": 128,
   "id": "5bbc5b5b",
   "metadata": {},
   "outputs": [
    {
     "name": "stdout",
     "output_type": "stream",
     "text": [
      "(1157, 4328)\n",
      "(1157,)\n",
      "(799, 4328)\n"
     ]
    }
   ],
   "source": [
    "X_train = X[:1157]\n",
    "X_test = X[1157:]\n",
    "print(X_train.shape)\n",
    "print(y.shape)\n",
    "print(X_test.shape)"
   ]
  },
  {
   "cell_type": "code",
   "execution_count": 19,
   "id": "2f5709bc",
   "metadata": {},
   "outputs": [],
   "source": [
    "from sklearn.linear_model import LogisticRegression"
   ]
  },
  {
   "cell_type": "code",
   "execution_count": 20,
   "id": "8f301b59",
   "metadata": {},
   "outputs": [],
   "source": [
    "model = LogisticRegression(solver='liblinear', random_state=0)"
   ]
  },
  {
   "cell_type": "code",
   "execution_count": 98,
   "id": "561a7dd1",
   "metadata": {},
   "outputs": [
    {
     "data": {
      "text/plain": [
       "LogisticRegression(random_state=0, solver='liblinear')"
      ]
     },
     "execution_count": 98,
     "metadata": {},
     "output_type": "execute_result"
    }
   ],
   "source": [
    "model.fit(X_train, y)"
   ]
  },
  {
   "cell_type": "code",
   "execution_count": 100,
   "id": "4a9a1b0a",
   "metadata": {},
   "outputs": [],
   "source": [
    "y_predict = model.predict(X_test)"
   ]
  },
  {
   "cell_type": "code",
   "execution_count": 101,
   "id": "6603cece",
   "metadata": {},
   "outputs": [
    {
     "name": "stdout",
     "output_type": "stream",
     "text": [
      "(799,)\n"
     ]
    }
   ],
   "source": [
    "print(y_predict.shape)"
   ]
  },
  {
   "cell_type": "code",
   "execution_count": null,
   "id": "daea7721",
   "metadata": {},
   "outputs": [],
   "source": []
  },
  {
   "cell_type": "code",
   "execution_count": 104,
   "id": "21a02c2f",
   "metadata": {},
   "outputs": [],
   "source": [
    "df_predict = pd.DataFrame(y_predict, columns = ['label'])"
   ]
  },
  {
   "cell_type": "code",
   "execution_count": 107,
   "id": "66b80e13",
   "metadata": {},
   "outputs": [
    {
     "data": {
      "text/html": [
       "<div>\n",
       "<style scoped>\n",
       "    .dataframe tbody tr th:only-of-type {\n",
       "        vertical-align: middle;\n",
       "    }\n",
       "\n",
       "    .dataframe tbody tr th {\n",
       "        vertical-align: top;\n",
       "    }\n",
       "\n",
       "    .dataframe thead th {\n",
       "        text-align: right;\n",
       "    }\n",
       "</style>\n",
       "<table border=\"1\" class=\"dataframe\">\n",
       "  <thead>\n",
       "    <tr style=\"text-align: right;\">\n",
       "      <th></th>\n",
       "      <th>label</th>\n",
       "    </tr>\n",
       "  </thead>\n",
       "  <tbody>\n",
       "    <tr>\n",
       "      <th>0</th>\n",
       "      <td>1</td>\n",
       "    </tr>\n",
       "    <tr>\n",
       "      <th>1</th>\n",
       "      <td>1</td>\n",
       "    </tr>\n",
       "    <tr>\n",
       "      <th>2</th>\n",
       "      <td>1</td>\n",
       "    </tr>\n",
       "    <tr>\n",
       "      <th>3</th>\n",
       "      <td>0</td>\n",
       "    </tr>\n",
       "    <tr>\n",
       "      <th>4</th>\n",
       "      <td>1</td>\n",
       "    </tr>\n",
       "  </tbody>\n",
       "</table>\n",
       "</div>"
      ],
      "text/plain": [
       "   label\n",
       "0      1\n",
       "1      1\n",
       "2      1\n",
       "3      0\n",
       "4      1"
      ]
     },
     "execution_count": 107,
     "metadata": {},
     "output_type": "execute_result"
    }
   ],
   "source": [
    "df_predict.head()"
   ]
  },
  {
   "cell_type": "code",
   "execution_count": null,
   "id": "4c9f312d",
   "metadata": {},
   "outputs": [],
   "source": []
  },
  {
   "cell_type": "code",
   "execution_count": null,
   "id": "e404ca28",
   "metadata": {},
   "outputs": [],
   "source": []
  },
  {
   "cell_type": "code",
   "execution_count": null,
   "id": "4504892b",
   "metadata": {},
   "outputs": [],
   "source": []
  }
 ],
 "metadata": {
  "kernelspec": {
   "display_name": "Python 3",
   "language": "python",
   "name": "python3"
  },
  "language_info": {
   "codemirror_mode": {
    "name": "ipython",
    "version": 3
   },
   "file_extension": ".py",
   "mimetype": "text/x-python",
   "name": "python",
   "nbconvert_exporter": "python",
   "pygments_lexer": "ipython3",
   "version": "3.8.11"
  }
 },
 "nbformat": 4,
 "nbformat_minor": 5
}
